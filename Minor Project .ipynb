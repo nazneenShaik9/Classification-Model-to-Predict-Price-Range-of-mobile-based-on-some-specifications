{
 "cells": [
  {
   "cell_type": "code",
   "execution_count": 1,
   "id": "8a17e1f1",
   "metadata": {},
   "outputs": [],
   "source": [
    "import pandas as pd \n",
    "import numpy as np\n",
    "import matplotlib.pyplot as plt\n",
    "import seaborn as sns"
   ]
  },
  {
   "cell_type": "code",
   "execution_count": 2,
   "id": "37874ec6",
   "metadata": {},
   "outputs": [
    {
     "data": {
      "text/html": [
       "<div>\n",
       "<style scoped>\n",
       "    .dataframe tbody tr th:only-of-type {\n",
       "        vertical-align: middle;\n",
       "    }\n",
       "\n",
       "    .dataframe tbody tr th {\n",
       "        vertical-align: top;\n",
       "    }\n",
       "\n",
       "    .dataframe thead th {\n",
       "        text-align: right;\n",
       "    }\n",
       "</style>\n",
       "<table border=\"1\" class=\"dataframe\">\n",
       "  <thead>\n",
       "    <tr style=\"text-align: right;\">\n",
       "      <th></th>\n",
       "      <th>battery_power</th>\n",
       "      <th>blue</th>\n",
       "      <th>clock_speed</th>\n",
       "      <th>dual_sim</th>\n",
       "      <th>fc</th>\n",
       "      <th>four_g</th>\n",
       "      <th>int_memory</th>\n",
       "      <th>m_dep</th>\n",
       "      <th>mobile_wt</th>\n",
       "      <th>n_cores</th>\n",
       "      <th>...</th>\n",
       "      <th>px_height</th>\n",
       "      <th>px_width</th>\n",
       "      <th>ram</th>\n",
       "      <th>sc_h</th>\n",
       "      <th>sc_w</th>\n",
       "      <th>talk_time</th>\n",
       "      <th>three_g</th>\n",
       "      <th>touch_screen</th>\n",
       "      <th>wifi</th>\n",
       "      <th>price_range</th>\n",
       "    </tr>\n",
       "  </thead>\n",
       "  <tbody>\n",
       "    <tr>\n",
       "      <th>0</th>\n",
       "      <td>842</td>\n",
       "      <td>0</td>\n",
       "      <td>2.2</td>\n",
       "      <td>0</td>\n",
       "      <td>1</td>\n",
       "      <td>0</td>\n",
       "      <td>7</td>\n",
       "      <td>0.6</td>\n",
       "      <td>188</td>\n",
       "      <td>2</td>\n",
       "      <td>...</td>\n",
       "      <td>20</td>\n",
       "      <td>756</td>\n",
       "      <td>2549</td>\n",
       "      <td>9</td>\n",
       "      <td>7</td>\n",
       "      <td>19</td>\n",
       "      <td>0</td>\n",
       "      <td>0</td>\n",
       "      <td>1</td>\n",
       "      <td>1</td>\n",
       "    </tr>\n",
       "    <tr>\n",
       "      <th>1</th>\n",
       "      <td>1021</td>\n",
       "      <td>1</td>\n",
       "      <td>0.5</td>\n",
       "      <td>1</td>\n",
       "      <td>0</td>\n",
       "      <td>1</td>\n",
       "      <td>53</td>\n",
       "      <td>0.7</td>\n",
       "      <td>136</td>\n",
       "      <td>3</td>\n",
       "      <td>...</td>\n",
       "      <td>905</td>\n",
       "      <td>1988</td>\n",
       "      <td>2631</td>\n",
       "      <td>17</td>\n",
       "      <td>3</td>\n",
       "      <td>7</td>\n",
       "      <td>1</td>\n",
       "      <td>1</td>\n",
       "      <td>0</td>\n",
       "      <td>2</td>\n",
       "    </tr>\n",
       "    <tr>\n",
       "      <th>2</th>\n",
       "      <td>563</td>\n",
       "      <td>1</td>\n",
       "      <td>0.5</td>\n",
       "      <td>1</td>\n",
       "      <td>2</td>\n",
       "      <td>1</td>\n",
       "      <td>41</td>\n",
       "      <td>0.9</td>\n",
       "      <td>145</td>\n",
       "      <td>5</td>\n",
       "      <td>...</td>\n",
       "      <td>1263</td>\n",
       "      <td>1716</td>\n",
       "      <td>2603</td>\n",
       "      <td>11</td>\n",
       "      <td>2</td>\n",
       "      <td>9</td>\n",
       "      <td>1</td>\n",
       "      <td>1</td>\n",
       "      <td>0</td>\n",
       "      <td>2</td>\n",
       "    </tr>\n",
       "    <tr>\n",
       "      <th>3</th>\n",
       "      <td>615</td>\n",
       "      <td>1</td>\n",
       "      <td>2.5</td>\n",
       "      <td>0</td>\n",
       "      <td>0</td>\n",
       "      <td>0</td>\n",
       "      <td>10</td>\n",
       "      <td>0.8</td>\n",
       "      <td>131</td>\n",
       "      <td>6</td>\n",
       "      <td>...</td>\n",
       "      <td>1216</td>\n",
       "      <td>1786</td>\n",
       "      <td>2769</td>\n",
       "      <td>16</td>\n",
       "      <td>8</td>\n",
       "      <td>11</td>\n",
       "      <td>1</td>\n",
       "      <td>0</td>\n",
       "      <td>0</td>\n",
       "      <td>2</td>\n",
       "    </tr>\n",
       "    <tr>\n",
       "      <th>4</th>\n",
       "      <td>1821</td>\n",
       "      <td>1</td>\n",
       "      <td>1.2</td>\n",
       "      <td>0</td>\n",
       "      <td>13</td>\n",
       "      <td>1</td>\n",
       "      <td>44</td>\n",
       "      <td>0.6</td>\n",
       "      <td>141</td>\n",
       "      <td>2</td>\n",
       "      <td>...</td>\n",
       "      <td>1208</td>\n",
       "      <td>1212</td>\n",
       "      <td>1411</td>\n",
       "      <td>8</td>\n",
       "      <td>2</td>\n",
       "      <td>15</td>\n",
       "      <td>1</td>\n",
       "      <td>1</td>\n",
       "      <td>0</td>\n",
       "      <td>1</td>\n",
       "    </tr>\n",
       "    <tr>\n",
       "      <th>...</th>\n",
       "      <td>...</td>\n",
       "      <td>...</td>\n",
       "      <td>...</td>\n",
       "      <td>...</td>\n",
       "      <td>...</td>\n",
       "      <td>...</td>\n",
       "      <td>...</td>\n",
       "      <td>...</td>\n",
       "      <td>...</td>\n",
       "      <td>...</td>\n",
       "      <td>...</td>\n",
       "      <td>...</td>\n",
       "      <td>...</td>\n",
       "      <td>...</td>\n",
       "      <td>...</td>\n",
       "      <td>...</td>\n",
       "      <td>...</td>\n",
       "      <td>...</td>\n",
       "      <td>...</td>\n",
       "      <td>...</td>\n",
       "      <td>...</td>\n",
       "    </tr>\n",
       "    <tr>\n",
       "      <th>1995</th>\n",
       "      <td>794</td>\n",
       "      <td>1</td>\n",
       "      <td>0.5</td>\n",
       "      <td>1</td>\n",
       "      <td>0</td>\n",
       "      <td>1</td>\n",
       "      <td>2</td>\n",
       "      <td>0.8</td>\n",
       "      <td>106</td>\n",
       "      <td>6</td>\n",
       "      <td>...</td>\n",
       "      <td>1222</td>\n",
       "      <td>1890</td>\n",
       "      <td>668</td>\n",
       "      <td>13</td>\n",
       "      <td>4</td>\n",
       "      <td>19</td>\n",
       "      <td>1</td>\n",
       "      <td>1</td>\n",
       "      <td>0</td>\n",
       "      <td>0</td>\n",
       "    </tr>\n",
       "    <tr>\n",
       "      <th>1996</th>\n",
       "      <td>1965</td>\n",
       "      <td>1</td>\n",
       "      <td>2.6</td>\n",
       "      <td>1</td>\n",
       "      <td>0</td>\n",
       "      <td>0</td>\n",
       "      <td>39</td>\n",
       "      <td>0.2</td>\n",
       "      <td>187</td>\n",
       "      <td>4</td>\n",
       "      <td>...</td>\n",
       "      <td>915</td>\n",
       "      <td>1965</td>\n",
       "      <td>2032</td>\n",
       "      <td>11</td>\n",
       "      <td>10</td>\n",
       "      <td>16</td>\n",
       "      <td>1</td>\n",
       "      <td>1</td>\n",
       "      <td>1</td>\n",
       "      <td>2</td>\n",
       "    </tr>\n",
       "    <tr>\n",
       "      <th>1997</th>\n",
       "      <td>1911</td>\n",
       "      <td>0</td>\n",
       "      <td>0.9</td>\n",
       "      <td>1</td>\n",
       "      <td>1</td>\n",
       "      <td>1</td>\n",
       "      <td>36</td>\n",
       "      <td>0.7</td>\n",
       "      <td>108</td>\n",
       "      <td>8</td>\n",
       "      <td>...</td>\n",
       "      <td>868</td>\n",
       "      <td>1632</td>\n",
       "      <td>3057</td>\n",
       "      <td>9</td>\n",
       "      <td>1</td>\n",
       "      <td>5</td>\n",
       "      <td>1</td>\n",
       "      <td>1</td>\n",
       "      <td>0</td>\n",
       "      <td>3</td>\n",
       "    </tr>\n",
       "    <tr>\n",
       "      <th>1998</th>\n",
       "      <td>1512</td>\n",
       "      <td>0</td>\n",
       "      <td>0.9</td>\n",
       "      <td>0</td>\n",
       "      <td>4</td>\n",
       "      <td>1</td>\n",
       "      <td>46</td>\n",
       "      <td>0.1</td>\n",
       "      <td>145</td>\n",
       "      <td>5</td>\n",
       "      <td>...</td>\n",
       "      <td>336</td>\n",
       "      <td>670</td>\n",
       "      <td>869</td>\n",
       "      <td>18</td>\n",
       "      <td>10</td>\n",
       "      <td>19</td>\n",
       "      <td>1</td>\n",
       "      <td>1</td>\n",
       "      <td>1</td>\n",
       "      <td>0</td>\n",
       "    </tr>\n",
       "    <tr>\n",
       "      <th>1999</th>\n",
       "      <td>510</td>\n",
       "      <td>1</td>\n",
       "      <td>2.0</td>\n",
       "      <td>1</td>\n",
       "      <td>5</td>\n",
       "      <td>1</td>\n",
       "      <td>45</td>\n",
       "      <td>0.9</td>\n",
       "      <td>168</td>\n",
       "      <td>6</td>\n",
       "      <td>...</td>\n",
       "      <td>483</td>\n",
       "      <td>754</td>\n",
       "      <td>3919</td>\n",
       "      <td>19</td>\n",
       "      <td>4</td>\n",
       "      <td>2</td>\n",
       "      <td>1</td>\n",
       "      <td>1</td>\n",
       "      <td>1</td>\n",
       "      <td>3</td>\n",
       "    </tr>\n",
       "  </tbody>\n",
       "</table>\n",
       "<p>2000 rows × 21 columns</p>\n",
       "</div>"
      ],
      "text/plain": [
       "      battery_power  blue  clock_speed  dual_sim  fc  four_g  int_memory  \\\n",
       "0               842     0          2.2         0   1       0           7   \n",
       "1              1021     1          0.5         1   0       1          53   \n",
       "2               563     1          0.5         1   2       1          41   \n",
       "3               615     1          2.5         0   0       0          10   \n",
       "4              1821     1          1.2         0  13       1          44   \n",
       "...             ...   ...          ...       ...  ..     ...         ...   \n",
       "1995            794     1          0.5         1   0       1           2   \n",
       "1996           1965     1          2.6         1   0       0          39   \n",
       "1997           1911     0          0.9         1   1       1          36   \n",
       "1998           1512     0          0.9         0   4       1          46   \n",
       "1999            510     1          2.0         1   5       1          45   \n",
       "\n",
       "      m_dep  mobile_wt  n_cores  ...  px_height  px_width   ram  sc_h  sc_w  \\\n",
       "0       0.6        188        2  ...         20       756  2549     9     7   \n",
       "1       0.7        136        3  ...        905      1988  2631    17     3   \n",
       "2       0.9        145        5  ...       1263      1716  2603    11     2   \n",
       "3       0.8        131        6  ...       1216      1786  2769    16     8   \n",
       "4       0.6        141        2  ...       1208      1212  1411     8     2   \n",
       "...     ...        ...      ...  ...        ...       ...   ...   ...   ...   \n",
       "1995    0.8        106        6  ...       1222      1890   668    13     4   \n",
       "1996    0.2        187        4  ...        915      1965  2032    11    10   \n",
       "1997    0.7        108        8  ...        868      1632  3057     9     1   \n",
       "1998    0.1        145        5  ...        336       670   869    18    10   \n",
       "1999    0.9        168        6  ...        483       754  3919    19     4   \n",
       "\n",
       "      talk_time  three_g  touch_screen  wifi  price_range  \n",
       "0            19        0             0     1            1  \n",
       "1             7        1             1     0            2  \n",
       "2             9        1             1     0            2  \n",
       "3            11        1             0     0            2  \n",
       "4            15        1             1     0            1  \n",
       "...         ...      ...           ...   ...          ...  \n",
       "1995         19        1             1     0            0  \n",
       "1996         16        1             1     1            2  \n",
       "1997          5        1             1     0            3  \n",
       "1998         19        1             1     1            0  \n",
       "1999          2        1             1     1            3  \n",
       "\n",
       "[2000 rows x 21 columns]"
      ]
     },
     "execution_count": 2,
     "metadata": {},
     "output_type": "execute_result"
    }
   ],
   "source": [
    "df = pd.read_csv('C:\\\\Users\\\\ejaza\\\\OneDrive\\\\Desktop\\\\mobile_price_range_data.csv')\n",
    "df"
   ]
  },
  {
   "cell_type": "code",
   "execution_count": 3,
   "id": "6d863925",
   "metadata": {},
   "outputs": [
    {
     "data": {
      "text/plain": [
       "battery_power    0\n",
       "blue             0\n",
       "clock_speed      0\n",
       "dual_sim         0\n",
       "fc               0\n",
       "four_g           0\n",
       "int_memory       0\n",
       "m_dep            0\n",
       "mobile_wt        0\n",
       "n_cores          0\n",
       "pc               0\n",
       "px_height        0\n",
       "px_width         0\n",
       "ram              0\n",
       "sc_h             0\n",
       "sc_w             0\n",
       "talk_time        0\n",
       "three_g          0\n",
       "touch_screen     0\n",
       "wifi             0\n",
       "price_range      0\n",
       "dtype: int64"
      ]
     },
     "execution_count": 3,
     "metadata": {},
     "output_type": "execute_result"
    }
   ],
   "source": [
    "df.isnull().sum()"
   ]
  },
  {
   "cell_type": "code",
   "execution_count": 4,
   "id": "a5c37a62",
   "metadata": {},
   "outputs": [
    {
     "data": {
      "text/plain": [
       "0"
      ]
     },
     "execution_count": 4,
     "metadata": {},
     "output_type": "execute_result"
    }
   ],
   "source": [
    "df.duplicated().sum()"
   ]
  },
  {
   "cell_type": "code",
   "execution_count": 5,
   "id": "f4202b75",
   "metadata": {},
   "outputs": [
    {
     "data": {
      "text/plain": [
       "battery_power      int64\n",
       "blue               int64\n",
       "clock_speed      float64\n",
       "dual_sim           int64\n",
       "fc                 int64\n",
       "four_g             int64\n",
       "int_memory         int64\n",
       "m_dep            float64\n",
       "mobile_wt          int64\n",
       "n_cores            int64\n",
       "pc                 int64\n",
       "px_height          int64\n",
       "px_width           int64\n",
       "ram                int64\n",
       "sc_h               int64\n",
       "sc_w               int64\n",
       "talk_time          int64\n",
       "three_g            int64\n",
       "touch_screen       int64\n",
       "wifi               int64\n",
       "price_range        int64\n",
       "dtype: object"
      ]
     },
     "execution_count": 5,
     "metadata": {},
     "output_type": "execute_result"
    }
   ],
   "source": [
    "df.dtypes"
   ]
  },
  {
   "cell_type": "code",
   "execution_count": 6,
   "id": "5c57f7f6",
   "metadata": {},
   "outputs": [
    {
     "name": "stdout",
     "output_type": "stream",
     "text": [
      "<class 'pandas.core.frame.DataFrame'>\n",
      "RangeIndex: 2000 entries, 0 to 1999\n",
      "Data columns (total 21 columns):\n",
      " #   Column         Non-Null Count  Dtype  \n",
      "---  ------         --------------  -----  \n",
      " 0   battery_power  2000 non-null   int64  \n",
      " 1   blue           2000 non-null   int64  \n",
      " 2   clock_speed    2000 non-null   float64\n",
      " 3   dual_sim       2000 non-null   int64  \n",
      " 4   fc             2000 non-null   int64  \n",
      " 5   four_g         2000 non-null   int64  \n",
      " 6   int_memory     2000 non-null   int64  \n",
      " 7   m_dep          2000 non-null   float64\n",
      " 8   mobile_wt      2000 non-null   int64  \n",
      " 9   n_cores        2000 non-null   int64  \n",
      " 10  pc             2000 non-null   int64  \n",
      " 11  px_height      2000 non-null   int64  \n",
      " 12  px_width       2000 non-null   int64  \n",
      " 13  ram            2000 non-null   int64  \n",
      " 14  sc_h           2000 non-null   int64  \n",
      " 15  sc_w           2000 non-null   int64  \n",
      " 16  talk_time      2000 non-null   int64  \n",
      " 17  three_g        2000 non-null   int64  \n",
      " 18  touch_screen   2000 non-null   int64  \n",
      " 19  wifi           2000 non-null   int64  \n",
      " 20  price_range    2000 non-null   int64  \n",
      "dtypes: float64(2), int64(19)\n",
      "memory usage: 328.2 KB\n"
     ]
    }
   ],
   "source": [
    "df.info()"
   ]
  },
  {
   "cell_type": "code",
   "execution_count": 7,
   "id": "83f59b91",
   "metadata": {},
   "outputs": [
    {
     "data": {
      "text/html": [
       "<div>\n",
       "<style scoped>\n",
       "    .dataframe tbody tr th:only-of-type {\n",
       "        vertical-align: middle;\n",
       "    }\n",
       "\n",
       "    .dataframe tbody tr th {\n",
       "        vertical-align: top;\n",
       "    }\n",
       "\n",
       "    .dataframe thead th {\n",
       "        text-align: right;\n",
       "    }\n",
       "</style>\n",
       "<table border=\"1\" class=\"dataframe\">\n",
       "  <thead>\n",
       "    <tr style=\"text-align: right;\">\n",
       "      <th></th>\n",
       "      <th>battery_power</th>\n",
       "      <th>blue</th>\n",
       "      <th>clock_speed</th>\n",
       "      <th>dual_sim</th>\n",
       "      <th>fc</th>\n",
       "      <th>four_g</th>\n",
       "      <th>int_memory</th>\n",
       "      <th>m_dep</th>\n",
       "      <th>mobile_wt</th>\n",
       "      <th>n_cores</th>\n",
       "      <th>...</th>\n",
       "      <th>px_height</th>\n",
       "      <th>px_width</th>\n",
       "      <th>ram</th>\n",
       "      <th>sc_h</th>\n",
       "      <th>sc_w</th>\n",
       "      <th>talk_time</th>\n",
       "      <th>three_g</th>\n",
       "      <th>touch_screen</th>\n",
       "      <th>wifi</th>\n",
       "      <th>price_range</th>\n",
       "    </tr>\n",
       "  </thead>\n",
       "  <tbody>\n",
       "    <tr>\n",
       "      <th>count</th>\n",
       "      <td>2000.000000</td>\n",
       "      <td>2000.0000</td>\n",
       "      <td>2000.000000</td>\n",
       "      <td>2000.000000</td>\n",
       "      <td>2000.000000</td>\n",
       "      <td>2000.000000</td>\n",
       "      <td>2000.000000</td>\n",
       "      <td>2000.000000</td>\n",
       "      <td>2000.000000</td>\n",
       "      <td>2000.000000</td>\n",
       "      <td>...</td>\n",
       "      <td>2000.000000</td>\n",
       "      <td>2000.000000</td>\n",
       "      <td>2000.000000</td>\n",
       "      <td>2000.000000</td>\n",
       "      <td>2000.000000</td>\n",
       "      <td>2000.000000</td>\n",
       "      <td>2000.000000</td>\n",
       "      <td>2000.000000</td>\n",
       "      <td>2000.000000</td>\n",
       "      <td>2000.000000</td>\n",
       "    </tr>\n",
       "    <tr>\n",
       "      <th>mean</th>\n",
       "      <td>1238.518500</td>\n",
       "      <td>0.4950</td>\n",
       "      <td>1.522250</td>\n",
       "      <td>0.509500</td>\n",
       "      <td>4.309500</td>\n",
       "      <td>0.521500</td>\n",
       "      <td>32.046500</td>\n",
       "      <td>0.501750</td>\n",
       "      <td>140.249000</td>\n",
       "      <td>4.520500</td>\n",
       "      <td>...</td>\n",
       "      <td>645.108000</td>\n",
       "      <td>1251.515500</td>\n",
       "      <td>2124.213000</td>\n",
       "      <td>12.306500</td>\n",
       "      <td>5.767000</td>\n",
       "      <td>11.011000</td>\n",
       "      <td>0.761500</td>\n",
       "      <td>0.503000</td>\n",
       "      <td>0.507000</td>\n",
       "      <td>1.500000</td>\n",
       "    </tr>\n",
       "    <tr>\n",
       "      <th>std</th>\n",
       "      <td>439.418206</td>\n",
       "      <td>0.5001</td>\n",
       "      <td>0.816004</td>\n",
       "      <td>0.500035</td>\n",
       "      <td>4.341444</td>\n",
       "      <td>0.499662</td>\n",
       "      <td>18.145715</td>\n",
       "      <td>0.288416</td>\n",
       "      <td>35.399655</td>\n",
       "      <td>2.287837</td>\n",
       "      <td>...</td>\n",
       "      <td>443.780811</td>\n",
       "      <td>432.199447</td>\n",
       "      <td>1084.732044</td>\n",
       "      <td>4.213245</td>\n",
       "      <td>4.356398</td>\n",
       "      <td>5.463955</td>\n",
       "      <td>0.426273</td>\n",
       "      <td>0.500116</td>\n",
       "      <td>0.500076</td>\n",
       "      <td>1.118314</td>\n",
       "    </tr>\n",
       "    <tr>\n",
       "      <th>min</th>\n",
       "      <td>501.000000</td>\n",
       "      <td>0.0000</td>\n",
       "      <td>0.500000</td>\n",
       "      <td>0.000000</td>\n",
       "      <td>0.000000</td>\n",
       "      <td>0.000000</td>\n",
       "      <td>2.000000</td>\n",
       "      <td>0.100000</td>\n",
       "      <td>80.000000</td>\n",
       "      <td>1.000000</td>\n",
       "      <td>...</td>\n",
       "      <td>0.000000</td>\n",
       "      <td>500.000000</td>\n",
       "      <td>256.000000</td>\n",
       "      <td>5.000000</td>\n",
       "      <td>0.000000</td>\n",
       "      <td>2.000000</td>\n",
       "      <td>0.000000</td>\n",
       "      <td>0.000000</td>\n",
       "      <td>0.000000</td>\n",
       "      <td>0.000000</td>\n",
       "    </tr>\n",
       "    <tr>\n",
       "      <th>25%</th>\n",
       "      <td>851.750000</td>\n",
       "      <td>0.0000</td>\n",
       "      <td>0.700000</td>\n",
       "      <td>0.000000</td>\n",
       "      <td>1.000000</td>\n",
       "      <td>0.000000</td>\n",
       "      <td>16.000000</td>\n",
       "      <td>0.200000</td>\n",
       "      <td>109.000000</td>\n",
       "      <td>3.000000</td>\n",
       "      <td>...</td>\n",
       "      <td>282.750000</td>\n",
       "      <td>874.750000</td>\n",
       "      <td>1207.500000</td>\n",
       "      <td>9.000000</td>\n",
       "      <td>2.000000</td>\n",
       "      <td>6.000000</td>\n",
       "      <td>1.000000</td>\n",
       "      <td>0.000000</td>\n",
       "      <td>0.000000</td>\n",
       "      <td>0.750000</td>\n",
       "    </tr>\n",
       "    <tr>\n",
       "      <th>50%</th>\n",
       "      <td>1226.000000</td>\n",
       "      <td>0.0000</td>\n",
       "      <td>1.500000</td>\n",
       "      <td>1.000000</td>\n",
       "      <td>3.000000</td>\n",
       "      <td>1.000000</td>\n",
       "      <td>32.000000</td>\n",
       "      <td>0.500000</td>\n",
       "      <td>141.000000</td>\n",
       "      <td>4.000000</td>\n",
       "      <td>...</td>\n",
       "      <td>564.000000</td>\n",
       "      <td>1247.000000</td>\n",
       "      <td>2146.500000</td>\n",
       "      <td>12.000000</td>\n",
       "      <td>5.000000</td>\n",
       "      <td>11.000000</td>\n",
       "      <td>1.000000</td>\n",
       "      <td>1.000000</td>\n",
       "      <td>1.000000</td>\n",
       "      <td>1.500000</td>\n",
       "    </tr>\n",
       "    <tr>\n",
       "      <th>75%</th>\n",
       "      <td>1615.250000</td>\n",
       "      <td>1.0000</td>\n",
       "      <td>2.200000</td>\n",
       "      <td>1.000000</td>\n",
       "      <td>7.000000</td>\n",
       "      <td>1.000000</td>\n",
       "      <td>48.000000</td>\n",
       "      <td>0.800000</td>\n",
       "      <td>170.000000</td>\n",
       "      <td>7.000000</td>\n",
       "      <td>...</td>\n",
       "      <td>947.250000</td>\n",
       "      <td>1633.000000</td>\n",
       "      <td>3064.500000</td>\n",
       "      <td>16.000000</td>\n",
       "      <td>9.000000</td>\n",
       "      <td>16.000000</td>\n",
       "      <td>1.000000</td>\n",
       "      <td>1.000000</td>\n",
       "      <td>1.000000</td>\n",
       "      <td>2.250000</td>\n",
       "    </tr>\n",
       "    <tr>\n",
       "      <th>max</th>\n",
       "      <td>1998.000000</td>\n",
       "      <td>1.0000</td>\n",
       "      <td>3.000000</td>\n",
       "      <td>1.000000</td>\n",
       "      <td>19.000000</td>\n",
       "      <td>1.000000</td>\n",
       "      <td>64.000000</td>\n",
       "      <td>1.000000</td>\n",
       "      <td>200.000000</td>\n",
       "      <td>8.000000</td>\n",
       "      <td>...</td>\n",
       "      <td>1960.000000</td>\n",
       "      <td>1998.000000</td>\n",
       "      <td>3998.000000</td>\n",
       "      <td>19.000000</td>\n",
       "      <td>18.000000</td>\n",
       "      <td>20.000000</td>\n",
       "      <td>1.000000</td>\n",
       "      <td>1.000000</td>\n",
       "      <td>1.000000</td>\n",
       "      <td>3.000000</td>\n",
       "    </tr>\n",
       "  </tbody>\n",
       "</table>\n",
       "<p>8 rows × 21 columns</p>\n",
       "</div>"
      ],
      "text/plain": [
       "       battery_power       blue  clock_speed     dual_sim           fc  \\\n",
       "count    2000.000000  2000.0000  2000.000000  2000.000000  2000.000000   \n",
       "mean     1238.518500     0.4950     1.522250     0.509500     4.309500   \n",
       "std       439.418206     0.5001     0.816004     0.500035     4.341444   \n",
       "min       501.000000     0.0000     0.500000     0.000000     0.000000   \n",
       "25%       851.750000     0.0000     0.700000     0.000000     1.000000   \n",
       "50%      1226.000000     0.0000     1.500000     1.000000     3.000000   \n",
       "75%      1615.250000     1.0000     2.200000     1.000000     7.000000   \n",
       "max      1998.000000     1.0000     3.000000     1.000000    19.000000   \n",
       "\n",
       "            four_g   int_memory        m_dep    mobile_wt      n_cores  ...  \\\n",
       "count  2000.000000  2000.000000  2000.000000  2000.000000  2000.000000  ...   \n",
       "mean      0.521500    32.046500     0.501750   140.249000     4.520500  ...   \n",
       "std       0.499662    18.145715     0.288416    35.399655     2.287837  ...   \n",
       "min       0.000000     2.000000     0.100000    80.000000     1.000000  ...   \n",
       "25%       0.000000    16.000000     0.200000   109.000000     3.000000  ...   \n",
       "50%       1.000000    32.000000     0.500000   141.000000     4.000000  ...   \n",
       "75%       1.000000    48.000000     0.800000   170.000000     7.000000  ...   \n",
       "max       1.000000    64.000000     1.000000   200.000000     8.000000  ...   \n",
       "\n",
       "         px_height     px_width          ram         sc_h         sc_w  \\\n",
       "count  2000.000000  2000.000000  2000.000000  2000.000000  2000.000000   \n",
       "mean    645.108000  1251.515500  2124.213000    12.306500     5.767000   \n",
       "std     443.780811   432.199447  1084.732044     4.213245     4.356398   \n",
       "min       0.000000   500.000000   256.000000     5.000000     0.000000   \n",
       "25%     282.750000   874.750000  1207.500000     9.000000     2.000000   \n",
       "50%     564.000000  1247.000000  2146.500000    12.000000     5.000000   \n",
       "75%     947.250000  1633.000000  3064.500000    16.000000     9.000000   \n",
       "max    1960.000000  1998.000000  3998.000000    19.000000    18.000000   \n",
       "\n",
       "         talk_time      three_g  touch_screen         wifi  price_range  \n",
       "count  2000.000000  2000.000000   2000.000000  2000.000000  2000.000000  \n",
       "mean     11.011000     0.761500      0.503000     0.507000     1.500000  \n",
       "std       5.463955     0.426273      0.500116     0.500076     1.118314  \n",
       "min       2.000000     0.000000      0.000000     0.000000     0.000000  \n",
       "25%       6.000000     1.000000      0.000000     0.000000     0.750000  \n",
       "50%      11.000000     1.000000      1.000000     1.000000     1.500000  \n",
       "75%      16.000000     1.000000      1.000000     1.000000     2.250000  \n",
       "max      20.000000     1.000000      1.000000     1.000000     3.000000  \n",
       "\n",
       "[8 rows x 21 columns]"
      ]
     },
     "execution_count": 7,
     "metadata": {},
     "output_type": "execute_result"
    }
   ],
   "source": [
    "df.describe()"
   ]
  },
  {
   "cell_type": "code",
   "execution_count": 8,
   "id": "7fb565df",
   "metadata": {},
   "outputs": [
    {
     "data": {
      "text/plain": [
       "(2000, 21)"
      ]
     },
     "execution_count": 8,
     "metadata": {},
     "output_type": "execute_result"
    }
   ],
   "source": [
    "df.shape"
   ]
  },
  {
   "cell_type": "code",
   "execution_count": 9,
   "id": "33574518",
   "metadata": {},
   "outputs": [
    {
     "data": {
      "image/png": "[encoded data removed]",
      "text/plain": [
       "<Figure size 432x288 with 1 Axes>"
      ]
     },
     "metadata": {},
     "output_type": "display_data"
    }
   ],
   "source": [
    "sns.set()\n",
    "price_plot = df['price_range'].value_counts().plot(kind='bar')\n",
    "plt.xlabel('price_range')\n",
    "plt.ylabel('count')\n",
    "plt.show()\n",
    "# df['price_range'].value_counts()"
   ]
  },
  {
   "cell_type": "code",
   "execution_count": 10,
   "id": "849947a0",
   "metadata": {},
   "outputs": [
    {
     "data": {
      "image/png": "[encoded data removed]",
      "text/plain": [
       "<Figure size 360x360 with 1 Axes>"
      ]
     },
     "metadata": {},
     "output_type": "display_data"
    }
   ],
   "source": [
    "plt.figure(figsize = (5, 5))\n",
    "sns.barplot(x = 'price_range', y = 'battery_power', data = df)\n",
    "plt.show()"
   ]
  },
  {
   "cell_type": "code",
   "execution_count": 11,
   "id": "7bc39f6b",
   "metadata": {},
   "outputs": [
    {
     "data": {
      "image/png": "[encoded data removed]",
      "text/plain": [
       "<Figure size 432x288 with 1 Axes>"
      ]
     },
     "metadata": {},
     "output_type": "display_data"
    }
   ],
   "source": [
    "# sns.displot(df, x = df['blue'])\n",
    "sns.barplot(x = 'price_range', y = 'blue', data = df)\n",
    "plt.show()"
   ]
  },
  {
   "cell_type": "code",
   "execution_count": 12,
   "id": "63ab896f",
   "metadata": {},
   "outputs": [
    {
     "data": {
      "image/png": "[encoded data removed]",
      "text/plain": [
       "<Figure size 360x360 with 1 Axes>"
      ]
     },
     "metadata": {},
     "output_type": "display_data"
    }
   ],
   "source": [
    "sns.displot(df, x = df['clock_speed'])\n",
    "plt.show()"
   ]
  },
  {
   "cell_type": "code",
   "execution_count": 13,
   "id": "34949cee",
   "metadata": {},
   "outputs": [
    {
     "data": {
      "image/png": "[encoded data removed]",
      "text/plain": [
       "<Figure size 360x360 with 1 Axes>"
      ]
     },
     "metadata": {},
     "output_type": "display_data"
    }
   ],
   "source": [
    "sns.displot(df, x = df['fc'])\n",
    "plt.show()"
   ]
  },
  {
   "cell_type": "code",
   "execution_count": 14,
   "id": "e9db41f3",
   "metadata": {},
   "outputs": [
    {
     "name": "stderr",
     "output_type": "stream",
     "text": [
      "C:\\Users\\ejaza\\anaconda3\\lib\\site-packages\\seaborn\\_decorators.py:36: FutureWarning: Pass the following variable as a keyword arg: x. From version 0.12, the only valid positional argument will be `data`, and passing other arguments without an explicit keyword will result in an error or misinterpretation.\n",
      "  warnings.warn(\n"
     ]
    },
    {
     "data": {
      "image/png": "[encoded data removed]",
      "text/plain": [
       "<Figure size 864x360 with 1 Axes>"
      ]
     },
     "metadata": {},
     "output_type": "display_data"
    }
   ],
   "source": [
    "plt.figure(figsize = (12, 5))\n",
    "sns.countplot(df['four_g'], hue = df['price_range'], palette = 'pink')\n",
    "plt.show()"
   ]
  },
  {
   "cell_type": "code",
   "execution_count": 15,
   "id": "8d264b1c",
   "metadata": {},
   "outputs": [
    {
     "name": "stderr",
     "output_type": "stream",
     "text": [
      "C:\\Users\\ejaza\\anaconda3\\lib\\site-packages\\seaborn\\_decorators.py:36: FutureWarning: Pass the following variable as a keyword arg: x. From version 0.12, the only valid positional argument will be `data`, and passing other arguments without an explicit keyword will result in an error or misinterpretation.\n",
      "  warnings.warn(\n"
     ]
    },
    {
     "data": {
      "image/png": "[encoded data removed]",
      "text/plain": [
       "<Figure size 864x360 with 1 Axes>"
      ]
     },
     "metadata": {},
     "output_type": "display_data"
    }
   ],
   "source": [
    "plt.figure(figsize = (12, 5))\n",
    "sns.countplot(df['three_g'], hue = df['price_range'], palette = 'ocean')\n",
    "plt.show()"
   ]
  },
  {
   "cell_type": "code",
   "execution_count": 16,
   "id": "1ce4dd7f",
   "metadata": {},
   "outputs": [
    {
     "data": {
      "image/png": "[encoded data removed]",
      "text/plain": [
       "<Figure size 432x288 with 1 Axes>"
      ]
     },
     "metadata": {},
     "output_type": "display_data"
    }
   ],
   "source": [
    "sns.lineplot(x = 'price_range', y = 'int_memory', data = df, hue = 'dual_sim')\n",
    "plt.show()"
   ]
  },
  {
   "cell_type": "code",
   "execution_count": 17,
   "id": "a0482262",
   "metadata": {},
   "outputs": [
    {
     "data": {
      "image/png": "[encoded data removed]",
      "text/plain": [
       "<Figure size 360x360 with 1 Axes>"
      ]
     },
     "metadata": {},
     "output_type": "display_data"
    }
   ],
   "source": [
    "sns.displot(df, x = df['m_dep'])\n",
    "plt.show()"
   ]
  },
  {
   "cell_type": "code",
   "execution_count": 18,
   "id": "8ed600ca",
   "metadata": {},
   "outputs": [
    {
     "data": {
      "image/png": "[encoded data removed]",
      "text/plain": [
       "<Figure size 360x360 with 1 Axes>"
      ]
     },
     "metadata": {},
     "output_type": "display_data"
    }
   ],
   "source": [
    "sns.displot(df, x = df['mobile_wt'])\n",
    "plt.show()"
   ]
  },
  {
   "cell_type": "code",
   "execution_count": 19,
   "id": "6a783790",
   "metadata": {},
   "outputs": [
    {
     "data": {
      "image/png": "[encoded data removed]",
      "text/plain": [
       "<Figure size 360x360 with 1 Axes>"
      ]
     },
     "metadata": {},
     "output_type": "display_data"
    }
   ],
   "source": [
    "sns.displot(df, x = df['n_cores'])\n",
    "plt.show()"
   ]
  },
  {
   "cell_type": "code",
   "execution_count": 20,
   "id": "b2a6c3a5",
   "metadata": {},
   "outputs": [
    {
     "data": {
      "image/png": "[encoded data removed]",
      "text/plain": [
       "<Figure size 360x360 with 1 Axes>"
      ]
     },
     "metadata": {},
     "output_type": "display_data"
    }
   ],
   "source": [
    "sns.displot(df, x = df['pc'])\n",
    "plt.show()"
   ]
  },
  {
   "cell_type": "code",
   "execution_count": 21,
   "id": "b34524be",
   "metadata": {},
   "outputs": [
    {
     "data": {
      "image/png": "[encoded data removed]",
      "text/plain": [
       "<Figure size 432x288 with 1 Axes>"
      ]
     },
     "metadata": {},
     "output_type": "display_data"
    }
   ],
   "source": [
    "sns.barplot(x ='price_range', y = 'px_height', data = df, palette = 'Blues')\n",
    "plt.show()"
   ]
  },
  {
   "cell_type": "code",
   "execution_count": 22,
   "id": "076789cc",
   "metadata": {},
   "outputs": [
    {
     "data": {
      "image/png": "[encoded data removed]",
      "text/plain": [
       "<Figure size 432x288 with 1 Axes>"
      ]
     },
     "metadata": {},
     "output_type": "display_data"
    }
   ],
   "source": [
    "sns.barplot(x = 'price_range', y = 'px_width', data = df, palette = 'Reds')\n",
    "plt.show()"
   ]
  },
  {
   "cell_type": "code",
   "execution_count": 23,
   "id": "ed8f5814",
   "metadata": {},
   "outputs": [
    {
     "data": {
      "image/png": "[encoded data removed]",
      "text/plain": [
       "<Figure size 360x360 with 1 Axes>"
      ]
     },
     "metadata": {},
     "output_type": "display_data"
    }
   ],
   "source": [
    "plt.figure(figsize = (5, 5))\n",
    "sns.barplot(x = 'price_range', y = 'ram', data = df)\n",
    "plt.show()"
   ]
  },
  {
   "cell_type": "code",
   "execution_count": 24,
   "id": "362ea5ce",
   "metadata": {},
   "outputs": [
    {
     "data": {
      "image/png": "[encoded data removed]",
      "text/plain": [
       "<Figure size 360x360 with 1 Axes>"
      ]
     },
     "metadata": {},
     "output_type": "display_data"
    }
   ],
   "source": [
    "sns.displot(df, x = df['sc_h'])\n",
    "plt.show()"
   ]
  },
  {
   "cell_type": "code",
   "execution_count": 25,
   "id": "f51eb1ba",
   "metadata": {},
   "outputs": [
    {
     "data": {
      "image/png": "[encoded data removed]",
      "text/plain": [
       "<Figure size 360x360 with 1 Axes>"
      ]
     },
     "metadata": {},
     "output_type": "display_data"
    }
   ],
   "source": [
    "sns.displot(df, x = df['sc_w'])\n",
    "plt.show()"
   ]
  },
  {
   "cell_type": "code",
   "execution_count": 26,
   "id": "6cafd478",
   "metadata": {},
   "outputs": [
    {
     "data": {
      "image/png": "[encoded data removed]",
      "text/plain": [
       "<Figure size 432x288 with 1 Axes>"
      ]
     },
     "metadata": {},
     "output_type": "display_data"
    }
   ],
   "source": [
    "sns.barplot(x = 'price_range', y = 'talk_time', data = df)\n",
    "plt.show()"
   ]
  },
  {
   "cell_type": "code",
   "execution_count": 27,
   "id": "0e253991",
   "metadata": {},
   "outputs": [
    {
     "data": {
      "image/png": "[encoded data removed]",
      "text/plain": [
       "<Figure size 432x288 with 1 Axes>"
      ]
     },
     "metadata": {},
     "output_type": "display_data"
    }
   ],
   "source": [
    "sns.barplot(x = 'price_range', y = 'touch_screen', data = df)\n",
    "plt.show()"
   ]
  },
  {
   "cell_type": "code",
   "execution_count": 28,
   "id": "a1cdcfe1",
   "metadata": {},
   "outputs": [
    {
     "data": {
      "image/png": "[encoded data removed]",
      "text/plain": [
       "<Figure size 432x288 with 1 Axes>"
      ]
     },
     "metadata": {},
     "output_type": "display_data"
    }
   ],
   "source": [
    "sns.barplot(x = 'price_range', y = 'wifi', data = df)\n",
    "plt.show()"
   ]
  },
  {
   "cell_type": "code",
   "execution_count": 29,
   "id": "7bcb4a3c",
   "metadata": {},
   "outputs": [
    {
     "name": "stdout",
     "output_type": "stream",
     "text": [
      "(2000, 20)\n",
      "(2000,)\n",
      "<class 'pandas.core.frame.DataFrame'>\n",
      "<class 'pandas.core.series.Series'>\n"
     ]
    }
   ],
   "source": [
    "x = df.iloc[:, :-1]\n",
    "y = df.iloc[:, -1]\n",
    "print(x.shape)\n",
    "print(y.shape)\n",
    "print(type(x))   # Number of Rows\n",
    "print(type(y))   # Number of columns"
   ]
  },
  {
   "cell_type": "code",
   "execution_count": 30,
   "id": "6c8fee9f",
   "metadata": {},
   "outputs": [],
   "source": [
    "from sklearn.model_selection import train_test_split"
   ]
  },
  {
   "cell_type": "code",
   "execution_count": 31,
   "id": "a4e76a49",
   "metadata": {},
   "outputs": [
    {
     "name": "stdout",
     "output_type": "stream",
     "text": [
      "(1500, 20)\n",
      "(500, 20)\n",
      "(1500,)\n",
      "(500,)\n"
     ]
    }
   ],
   "source": [
    "x_train, x_test, y_train, y_test = train_test_split(x, y, test_size = 0.25)\n",
    "print(x_train.shape)\n",
    "print(x_test.shape)\n",
    "print(y_train.shape)\n",
    "print(y_test.shape)"
   ]
  },
  {
   "cell_type": "code",
   "execution_count": 32,
   "id": "ac96333d",
   "metadata": {},
   "outputs": [],
   "source": [
    "from sklearn.preprocessing import StandardScaler\n",
    "sc = StandardScaler()\n",
    "x_train = sc.fit_transform(x_train)\n",
    "x_test = sc.fit_transform(x_test)"
   ]
  },
  {
   "cell_type": "code",
   "execution_count": 33,
   "id": "9e48e0bf",
   "metadata": {},
   "outputs": [
    {
     "data": {
      "text/plain": [
       "array([[ 1.57664724,  1.02840321,  0.32913298, ...,  0.56503205,\n",
       "         0.98675438,  0.96720415],\n",
       "       [ 0.74504939, -0.97238125,  1.06508251, ...,  0.56503205,\n",
       "         0.98675438, -1.03390789],\n",
       "       [-0.90447619, -0.97238125,  0.57444949, ...,  0.56503205,\n",
       "        -1.01342342, -1.03390789],\n",
       "       ...,\n",
       "       [ 1.61537919, -0.97238125, -0.40681654, ..., -1.76981112,\n",
       "        -1.01342342,  0.96720415],\n",
       "       [-0.9363731 ,  1.02840321, -1.26542432, ..., -1.76981112,\n",
       "         0.98675438, -1.03390789],\n",
       "       [-0.15489896, -0.97238125, -0.28415829, ..., -1.76981112,\n",
       "        -1.01342342,  0.96720415]])"
      ]
     },
     "execution_count": 33,
     "metadata": {},
     "output_type": "execute_result"
    }
   ],
   "source": [
    "x_train"
   ]
  },
  {
   "cell_type": "code",
   "execution_count": 34,
   "id": "6d67d060",
   "metadata": {},
   "outputs": [
    {
     "data": {
      "text/plain": [
       "array([[ 0.37894493,  0.95692675,  0.25222607, ..., -1.84009916,\n",
       "         1.01613007, -0.95692675],\n",
       "       [ 1.52562527, -1.04501206,  0.49710576, ...,  0.54344897,\n",
       "         1.01613007,  1.04501206],\n",
       "       [-0.0502087 , -1.04501206, -1.21705203, ...,  0.54344897,\n",
       "         1.01613007,  1.04501206],\n",
       "       ...,\n",
       "       [-0.21823711,  0.95692675,  1.47662449, ...,  0.54344897,\n",
       "         1.01613007, -0.95692675],\n",
       "       [ 0.22908175, -1.04501206,  1.72150417, ...,  0.54344897,\n",
       "        -0.98412598,  1.04501206],\n",
       "       [-0.79271261,  0.95692675,  0.6195456 , ...,  0.54344897,\n",
       "         1.01613007, -0.95692675]])"
      ]
     },
     "execution_count": 34,
     "metadata": {},
     "output_type": "execute_result"
    }
   ],
   "source": [
    "x_test"
   ]
  },
  {
   "cell_type": "markdown",
   "id": "adb084d1",
   "metadata": {},
   "source": [
    "# a)Logistic Regression"
   ]
  },
  {
   "cell_type": "code",
   "execution_count": 35,
   "id": "2ac4e529",
   "metadata": {},
   "outputs": [],
   "source": [
    "from sklearn.linear_model import LogisticRegression"
   ]
  },
  {
   "cell_type": "code",
   "execution_count": 36,
   "id": "33bb30e0",
   "metadata": {},
   "outputs": [
    {
     "data": {
      "text/plain": [
       "LogisticRegression()"
      ]
     },
     "execution_count": 36,
     "metadata": {},
     "output_type": "execute_result"
    }
   ],
   "source": [
    "m1 = LogisticRegression()\n",
    "m1.fit(x_train, y_train)"
   ]
  },
  {
   "cell_type": "code",
   "execution_count": 37,
   "id": "17f71e38",
   "metadata": {},
   "outputs": [
    {
     "name": "stdout",
     "output_type": "stream",
     "text": [
      "Training score 0.9766666666666667\n",
      "Testing score 0.938\n"
     ]
    }
   ],
   "source": [
    "# Accuracy\n",
    "print('Training score', m1.score(x_train, y_train))\n",
    "print('Testing score', m1.score(x_test, y_test))"
   ]
  },
  {
   "cell_type": "code",
   "execution_count": 38,
   "id": "3acb60a7",
   "metadata": {},
   "outputs": [
    {
     "data": {
      "text/plain": [
       "array([2, 2, 0, 2, 1, 2, 2, 1, 0, 2, 2, 1, 3, 3, 1, 1, 0, 3, 2, 3, 0, 2,\n",
       "       3, 3, 2, 1, 0, 2, 0, 1, 0, 1, 3, 1, 2, 3, 2, 2, 0, 0, 2, 0, 0, 2,\n",
       "       1, 1, 1, 1, 2, 1, 3, 1, 3, 3, 0, 1, 0, 1, 2, 3, 2, 2, 0, 3, 2, 0,\n",
       "       3, 1, 3, 2, 0, 1, 1, 2, 0, 3, 2, 3, 3, 3, 3, 3, 0, 1, 2, 1, 0, 3,\n",
       "       1, 2, 3, 2, 0, 1, 0, 2, 0, 1, 0, 3, 0, 3, 3, 0, 3, 2, 1, 2, 0, 3,\n",
       "       2, 2, 1, 2, 3, 0, 1, 2, 0, 1, 0, 0, 3, 0, 2, 2, 0, 1, 3, 0, 1, 2,\n",
       "       3, 3, 2, 3, 0, 0, 1, 1, 3, 2, 3, 0, 0, 0, 1, 2, 1, 2, 0, 0, 1, 0,\n",
       "       1, 2, 2, 3, 2, 1, 3, 3, 0, 2, 1, 1, 1, 0, 0, 2, 1, 1, 3, 1, 0, 3,\n",
       "       2, 1, 2, 2, 0, 0, 0, 2, 3, 3, 0, 1, 2, 0, 3, 1, 1, 1, 0, 0, 2, 2,\n",
       "       2, 1, 2, 2, 1, 3, 2, 1, 1, 0, 1, 2, 0, 1, 1, 0, 0, 0, 0, 1, 0, 2,\n",
       "       0, 3, 1, 3, 2, 3, 1, 0, 1, 0, 3, 2, 2, 0, 3, 0, 0, 3, 3, 1, 2, 0,\n",
       "       0, 2, 3, 1, 1, 3, 1, 3, 3, 3, 0, 3, 0, 3, 3, 1, 0, 3, 0, 2, 0, 1,\n",
       "       3, 2, 3, 0, 1, 0, 2, 3, 3, 3, 2, 2, 0, 0, 3, 0, 3, 2, 1, 0, 3, 0,\n",
       "       1, 2, 2, 3, 0, 3, 1, 2, 3, 0, 0, 0, 3, 1, 2, 0, 3, 0, 2, 3, 1, 0,\n",
       "       2, 2, 2, 0, 3, 2, 1, 0, 1, 3, 1, 2, 0, 2, 1, 2, 3, 0, 2, 2, 2, 3,\n",
       "       3, 0, 0, 3, 0, 2, 0, 2, 1, 1, 3, 1, 3, 0, 1, 2, 2, 0, 1, 1, 1, 1,\n",
       "       1, 2, 0, 3, 2, 3, 2, 3, 2, 0, 1, 1, 3, 2, 3, 3, 3, 1, 3, 3, 1, 3,\n",
       "       2, 1, 3, 1, 1, 3, 1, 1, 2, 0, 0, 0, 3, 2, 0, 1, 3, 1, 3, 2, 1, 1,\n",
       "       2, 3, 2, 1, 2, 1, 2, 1, 0, 2, 2, 1, 1, 1, 1, 0, 2, 0, 3, 0, 3, 2,\n",
       "       2, 3, 2, 1, 1, 3, 2, 2, 1, 3, 1, 2, 0, 1, 2, 2, 0, 1, 1, 1, 3, 3,\n",
       "       0, 2, 1, 3, 2, 0, 0, 3, 1, 2, 1, 1, 3, 0, 0, 3, 2, 1, 2, 0, 0, 2,\n",
       "       0, 0, 3, 3, 2, 0, 3, 1, 2, 1, 0, 3, 1, 0, 1, 1, 0, 2, 2, 3, 1, 3,\n",
       "       3, 0, 3, 1, 3, 2, 3, 0, 1, 0, 1, 0, 3, 0, 2, 1], dtype=int64)"
      ]
     },
     "execution_count": 38,
     "metadata": {},
     "output_type": "execute_result"
    }
   ],
   "source": [
    "ypred_m1 = m1.predict(x_test)\n",
    "ypred_m1"
   ]
  },
  {
   "cell_type": "code",
   "execution_count": 39,
   "id": "98f10a89",
   "metadata": {},
   "outputs": [],
   "source": [
    "from sklearn.metrics import confusion_matrix, classification_report, accuracy_score"
   ]
  },
  {
   "cell_type": "code",
   "execution_count": 40,
   "id": "fcd00da7",
   "metadata": {},
   "outputs": [
    {
     "name": "stdout",
     "output_type": "stream",
     "text": [
      "[[112   0   0   0]\n",
      " [ 14 124   1   0]\n",
      " [  0   4 118   6]\n",
      " [  0   0   6 115]]\n",
      "              precision    recall  f1-score   support\n",
      "\n",
      "           0       0.89      1.00      0.94       112\n",
      "           1       0.97      0.89      0.93       139\n",
      "           2       0.94      0.92      0.93       128\n",
      "           3       0.95      0.95      0.95       121\n",
      "\n",
      "    accuracy                           0.94       500\n",
      "   macro avg       0.94      0.94      0.94       500\n",
      "weighted avg       0.94      0.94      0.94       500\n",
      "\n",
      "0.938\n"
     ]
    }
   ],
   "source": [
    "cm  = confusion_matrix(y_test, ypred_m1)\n",
    "print(cm)\n",
    "print(classification_report(y_test, ypred_m1))\n",
    "# Accuracy score\n",
    "lr_acc = accuracy_score(y_test, ypred_m1)        \n",
    "print(lr_acc)"
   ]
  },
  {
   "cell_type": "markdown",
   "id": "89694803",
   "metadata": {},
   "source": [
    "# b)KNN Classification"
   ]
  },
  {
   "cell_type": "code",
   "execution_count": 41,
   "id": "245d1417",
   "metadata": {},
   "outputs": [],
   "source": [
    "from sklearn.neighbors import KNeighborsClassifier"
   ]
  },
  {
   "cell_type": "code",
   "execution_count": 42,
   "id": "f11efd3e",
   "metadata": {},
   "outputs": [
    {
     "data": {
      "text/plain": [
       "KNeighborsClassifier(n_neighbors=11)"
      ]
     },
     "execution_count": 42,
     "metadata": {},
     "output_type": "execute_result"
    }
   ],
   "source": [
    "m2 = KNeighborsClassifier(n_neighbors = 11)\n",
    "m2.fit(x_train, y_train)"
   ]
  },
  {
   "cell_type": "code",
   "execution_count": 43,
   "id": "efdb82a6",
   "metadata": {},
   "outputs": [
    {
     "name": "stdout",
     "output_type": "stream",
     "text": [
      "Training score 0.6773333333333333\n",
      "Testing score 0.526\n"
     ]
    }
   ],
   "source": [
    "print('Training score', m2.score(x_train, y_train))\n",
    "print('Testing score', m2.score(x_test, y_test))"
   ]
  },
  {
   "cell_type": "code",
   "execution_count": 44,
   "id": "e80f85ee",
   "metadata": {},
   "outputs": [
    {
     "data": {
      "text/plain": [
       "array([2, 1, 1, 2, 2, 2, 2, 2, 0, 2, 2, 2, 3, 3, 1, 0, 0, 3, 1, 3, 1, 3,\n",
       "       3, 2, 2, 0, 0, 3, 0, 1, 0, 1, 2, 0, 2, 3, 1, 3, 1, 0, 1, 0, 1, 2,\n",
       "       2, 0, 0, 0, 0, 2, 3, 0, 3, 3, 0, 1, 0, 2, 2, 3, 3, 1, 0, 1, 1, 0,\n",
       "       1, 1, 2, 2, 1, 1, 1, 1, 0, 2, 1, 3, 3, 2, 3, 2, 0, 2, 1, 2, 0, 3,\n",
       "       1, 3, 3, 1, 0, 0, 0, 0, 0, 1, 0, 3, 0, 3, 3, 0, 3, 2, 2, 2, 0, 3,\n",
       "       2, 1, 1, 2, 2, 0, 1, 1, 0, 0, 0, 1, 3, 1, 2, 3, 1, 1, 3, 1, 0, 2,\n",
       "       3, 3, 1, 2, 1, 0, 1, 0, 3, 2, 2, 0, 0, 0, 0, 1, 1, 1, 1, 0, 2, 0,\n",
       "       1, 2, 2, 3, 1, 2, 1, 2, 1, 2, 0, 0, 1, 0, 0, 0, 1, 1, 2, 1, 0, 2,\n",
       "       1, 2, 3, 3, 0, 0, 1, 2, 3, 2, 1, 0, 2, 0, 3, 2, 0, 2, 0, 0, 1, 0,\n",
       "       2, 1, 3, 2, 1, 1, 3, 1, 1, 0, 1, 2, 1, 1, 2, 0, 0, 0, 0, 1, 0, 2,\n",
       "       0, 1, 1, 3, 0, 2, 1, 0, 1, 0, 3, 2, 2, 0, 2, 0, 0, 2, 3, 1, 1, 0,\n",
       "       1, 3, 2, 1, 1, 3, 2, 1, 3, 2, 0, 3, 1, 3, 3, 1, 0, 2, 0, 1, 2, 0,\n",
       "       2, 1, 2, 0, 3, 1, 0, 3, 3, 3, 3, 0, 1, 0, 1, 0, 1, 1, 1, 2, 2, 1,\n",
       "       0, 2, 1, 2, 0, 3, 0, 2, 2, 0, 0, 0, 3, 0, 0, 0, 1, 0, 0, 3, 0, 0,\n",
       "       2, 0, 2, 2, 3, 0, 0, 0, 1, 1, 0, 0, 0, 2, 2, 3, 3, 0, 2, 2, 1, 2,\n",
       "       3, 2, 0, 3, 1, 2, 0, 1, 1, 0, 3, 1, 3, 0, 1, 1, 3, 1, 2, 2, 1, 1,\n",
       "       1, 0, 0, 3, 1, 3, 2, 2, 2, 0, 1, 0, 2, 2, 3, 3, 3, 3, 2, 3, 0, 3,\n",
       "       2, 1, 1, 1, 1, 3, 2, 1, 2, 0, 0, 0, 3, 2, 2, 0, 2, 0, 3, 1, 2, 0,\n",
       "       0, 2, 2, 1, 2, 2, 2, 1, 1, 3, 2, 1, 1, 1, 1, 0, 2, 0, 3, 0, 2, 2,\n",
       "       2, 1, 1, 0, 2, 2, 3, 2, 0, 3, 0, 3, 1, 1, 2, 2, 0, 2, 0, 1, 1, 3,\n",
       "       0, 2, 0, 2, 0, 0, 0, 3, 2, 0, 1, 1, 2, 0, 0, 2, 0, 0, 2, 0, 1, 1,\n",
       "       1, 0, 1, 3, 2, 1, 2, 0, 1, 0, 2, 3, 1, 0, 2, 1, 2, 1, 3, 3, 1, 3,\n",
       "       1, 0, 3, 0, 2, 1, 2, 1, 0, 0, 2, 0, 2, 0, 2, 1], dtype=int64)"
      ]
     },
     "execution_count": 44,
     "metadata": {},
     "output_type": "execute_result"
    }
   ],
   "source": [
    "ypred_m2 = m2.predict(x_test)\n",
    "ypred_m2"
   ]
  },
  {
   "cell_type": "code",
   "execution_count": 45,
   "id": "c330f4bd",
   "metadata": {},
   "outputs": [],
   "source": [
    "from sklearn.metrics import confusion_matrix, classification_report,accuracy_score"
   ]
  },
  {
   "cell_type": "code",
   "execution_count": 46,
   "id": "749d9c1c",
   "metadata": {},
   "outputs": [
    {
     "name": "stdout",
     "output_type": "stream",
     "text": [
      "[[82 25  5  0]\n",
      " [49 60 28  2]\n",
      " [16 38 55 19]\n",
      " [ 0 13 42 66]]\n",
      "              precision    recall  f1-score   support\n",
      "\n",
      "           0       0.56      0.73      0.63       112\n",
      "           1       0.44      0.43      0.44       139\n",
      "           2       0.42      0.43      0.43       128\n",
      "           3       0.76      0.55      0.63       121\n",
      "\n",
      "    accuracy                           0.53       500\n",
      "   macro avg       0.55      0.53      0.53       500\n",
      "weighted avg       0.54      0.53      0.53       500\n",
      "\n",
      "0.526\n"
     ]
    }
   ],
   "source": [
    "cm = confusion_matrix(y_test, ypred_m2)\n",
    "print(cm)\n",
    "print(classification_report(y_test, ypred_m2))\n",
    "# Accuracy score\n",
    "knn_acc = accuracy_score(ypred_m2, y_test)   \n",
    "print(knn_acc)"
   ]
  },
  {
   "cell_type": "markdown",
   "id": "6c573bfe",
   "metadata": {},
   "source": [
    "# c)Decision Tree Classification"
   ]
  },
  {
   "cell_type": "code",
   "execution_count": 47,
   "id": "19ea1a7f",
   "metadata": {},
   "outputs": [],
   "source": [
    "from sklearn.tree import DecisionTreeClassifier"
   ]
  },
  {
   "cell_type": "code",
   "execution_count": 48,
   "id": "d4491c5e",
   "metadata": {},
   "outputs": [
    {
     "data": {
      "text/plain": [
       "DecisionTreeClassifier()"
      ]
     },
     "execution_count": 48,
     "metadata": {},
     "output_type": "execute_result"
    }
   ],
   "source": [
    "m3 = DecisionTreeClassifier()\n",
    "m3.fit(x_train, y_train)"
   ]
  },
  {
   "cell_type": "code",
   "execution_count": 49,
   "id": "62ea9863",
   "metadata": {},
   "outputs": [
    {
     "name": "stdout",
     "output_type": "stream",
     "text": [
      "Training score 1.0\n",
      "Testing score 0.844\n"
     ]
    }
   ],
   "source": [
    "print('Training score', m3.score(x_train, y_train))\n",
    "print('Testing score', m3.score(x_test, y_test))"
   ]
  },
  {
   "cell_type": "code",
   "execution_count": 50,
   "id": "1572974a",
   "metadata": {},
   "outputs": [
    {
     "data": {
      "text/plain": [
       "array([2, 2, 0, 1, 2, 2, 2, 1, 0, 2, 2, 1, 2, 3, 1, 1, 0, 3, 2, 3, 1, 2,\n",
       "       3, 3, 1, 1, 0, 2, 0, 1, 0, 1, 3, 1, 2, 3, 1, 2, 0, 0, 2, 0, 0, 3,\n",
       "       1, 1, 1, 1, 3, 2, 3, 1, 2, 3, 0, 1, 0, 1, 2, 3, 2, 2, 1, 3, 1, 0,\n",
       "       3, 2, 3, 2, 0, 1, 1, 2, 0, 3, 1, 3, 3, 3, 3, 3, 0, 1, 2, 0, 0, 3,\n",
       "       1, 3, 3, 2, 0, 1, 0, 1, 1, 1, 0, 3, 0, 3, 2, 0, 3, 2, 1, 3, 0, 3,\n",
       "       1, 2, 1, 1, 3, 0, 1, 1, 0, 0, 0, 0, 3, 0, 2, 2, 0, 1, 3, 0, 1, 2,\n",
       "       3, 3, 2, 3, 0, 1, 1, 1, 3, 2, 2, 0, 0, 0, 2, 2, 1, 2, 0, 0, 1, 0,\n",
       "       1, 1, 2, 3, 2, 1, 2, 3, 0, 2, 1, 1, 1, 0, 0, 2, 1, 1, 3, 1, 0, 3,\n",
       "       3, 1, 2, 2, 0, 0, 0, 2, 3, 3, 0, 1, 2, 0, 3, 1, 1, 1, 0, 0, 3, 2,\n",
       "       2, 1, 2, 3, 1, 2, 1, 1, 1, 0, 1, 2, 0, 1, 1, 0, 0, 0, 1, 1, 0, 2,\n",
       "       0, 2, 1, 3, 2, 3, 1, 0, 1, 0, 3, 2, 2, 0, 3, 0, 0, 3, 3, 1, 3, 0,\n",
       "       0, 2, 2, 2, 1, 3, 1, 2, 3, 3, 0, 3, 0, 3, 3, 1, 0, 3, 0, 2, 0, 1,\n",
       "       3, 2, 3, 1, 1, 0, 1, 2, 3, 3, 2, 1, 0, 0, 2, 0, 3, 1, 1, 0, 3, 0,\n",
       "       1, 2, 2, 3, 0, 3, 1, 2, 3, 1, 0, 0, 3, 1, 2, 0, 3, 0, 1, 3, 1, 0,\n",
       "       2, 2, 3, 0, 3, 2, 1, 0, 1, 3, 1, 2, 0, 2, 1, 2, 2, 0, 2, 2, 2, 3,\n",
       "       2, 0, 0, 3, 0, 3, 0, 2, 0, 1, 3, 1, 3, 0, 1, 2, 2, 0, 1, 1, 1, 1,\n",
       "       1, 1, 1, 3, 2, 3, 3, 3, 2, 1, 1, 0, 3, 2, 3, 3, 3, 1, 3, 3, 1, 3,\n",
       "       1, 1, 3, 1, 2, 3, 1, 1, 2, 0, 1, 0, 3, 2, 0, 1, 3, 1, 3, 1, 1, 1,\n",
       "       1, 3, 2, 1, 2, 1, 2, 2, 0, 2, 2, 2, 1, 2, 1, 0, 2, 0, 3, 0, 2, 2,\n",
       "       1, 2, 2, 1, 1, 3, 2, 1, 1, 3, 1, 3, 0, 1, 2, 2, 0, 1, 1, 1, 3, 3,\n",
       "       0, 2, 1, 3, 2, 0, 0, 3, 1, 2, 1, 1, 3, 0, 0, 3, 2, 1, 1, 0, 0, 2,\n",
       "       0, 0, 3, 3, 2, 0, 3, 1, 2, 1, 0, 3, 1, 0, 1, 2, 0, 2, 2, 3, 1, 3,\n",
       "       3, 0, 3, 1, 3, 2, 3, 1, 1, 0, 1, 0, 2, 0, 2, 1], dtype=int64)"
      ]
     },
     "execution_count": 50,
     "metadata": {},
     "output_type": "execute_result"
    }
   ],
   "source": [
    "ypred_m3 = m3.predict(x_test)\n",
    "ypred_m3"
   ]
  },
  {
   "cell_type": "code",
   "execution_count": 51,
   "id": "0bc3d4af",
   "metadata": {},
   "outputs": [],
   "source": [
    "from sklearn.metrics import confusion_matrix, classification_report,accuracy_score"
   ]
  },
  {
   "cell_type": "code",
   "execution_count": 52,
   "id": "43026779",
   "metadata": {},
   "outputs": [
    {
     "name": "stdout",
     "output_type": "stream",
     "text": [
      "[[105   7   0   0]\n",
      " [ 14 116   9   0]\n",
      " [  0  24  94  10]\n",
      " [  0   0  14 107]]\n",
      "              precision    recall  f1-score   support\n",
      "\n",
      "           0       0.88      0.94      0.91       112\n",
      "           1       0.79      0.83      0.81       139\n",
      "           2       0.80      0.73      0.77       128\n",
      "           3       0.91      0.88      0.90       121\n",
      "\n",
      "    accuracy                           0.84       500\n",
      "   macro avg       0.85      0.85      0.85       500\n",
      "weighted avg       0.84      0.84      0.84       500\n",
      "\n",
      "0.844\n"
     ]
    }
   ],
   "source": [
    "cm = confusion_matrix(y_test, ypred_m3)\n",
    "print(cm)\n",
    "print(classification_report(y_test, ypred_m3))\n",
    "# Accuracy score\n",
    "dtc_acc = accuracy_score(y_test, ypred_m3)\n",
    "print(dtc_acc)"
   ]
  },
  {
   "cell_type": "markdown",
   "id": "aa9107a0",
   "metadata": {},
   "source": [
    "# d)Random Forest Classification"
   ]
  },
  {
   "cell_type": "code",
   "execution_count": 53,
   "id": "9a6227ba",
   "metadata": {},
   "outputs": [],
   "source": [
    "from sklearn.ensemble import RandomForestClassifier"
   ]
  },
  {
   "cell_type": "code",
   "execution_count": 54,
   "id": "55f30a65",
   "metadata": {},
   "outputs": [
    {
     "data": {
      "text/plain": [
       "RandomForestClassifier()"
      ]
     },
     "execution_count": 54,
     "metadata": {},
     "output_type": "execute_result"
    }
   ],
   "source": [
    "m4 = RandomForestClassifier()\n",
    "m4.fit(x_train, y_train)"
   ]
  },
  {
   "cell_type": "code",
   "execution_count": 55,
   "id": "e1b877c9",
   "metadata": {},
   "outputs": [
    {
     "name": "stdout",
     "output_type": "stream",
     "text": [
      "Training score 1.0\n",
      "Testing score 0.864\n"
     ]
    }
   ],
   "source": [
    "print('Training score', m4.score(x_train, y_train))\n",
    "print('Testing score', m4.score(x_test, y_test))"
   ]
  },
  {
   "cell_type": "code",
   "execution_count": 56,
   "id": "136c249f",
   "metadata": {},
   "outputs": [
    {
     "data": {
      "text/plain": [
       "array([2, 1, 0, 2, 1, 3, 2, 2, 0, 2, 3, 1, 3, 3, 1, 1, 0, 3, 2, 3, 0, 2,\n",
       "       3, 3, 2, 1, 0, 2, 0, 1, 0, 1, 3, 1, 2, 3, 1, 2, 0, 1, 2, 0, 0, 3,\n",
       "       1, 1, 2, 1, 2, 1, 3, 1, 3, 3, 0, 1, 0, 1, 2, 3, 2, 2, 0, 3, 2, 0,\n",
       "       3, 1, 3, 2, 0, 1, 1, 2, 0, 3, 2, 3, 3, 2, 3, 3, 0, 1, 1, 1, 0, 3,\n",
       "       2, 3, 3, 2, 0, 1, 0, 2, 0, 1, 0, 3, 0, 3, 2, 0, 3, 2, 1, 3, 0, 3,\n",
       "       2, 2, 1, 2, 3, 0, 1, 1, 0, 1, 0, 0, 3, 0, 2, 2, 0, 1, 3, 0, 1, 2,\n",
       "       3, 3, 2, 3, 0, 0, 1, 1, 3, 2, 3, 1, 0, 0, 2, 2, 1, 2, 0, 0, 1, 0,\n",
       "       1, 2, 2, 3, 2, 1, 2, 3, 0, 2, 1, 1, 1, 0, 0, 2, 1, 1, 3, 1, 0, 3,\n",
       "       2, 0, 2, 2, 0, 0, 0, 2, 3, 3, 0, 1, 2, 0, 3, 1, 1, 1, 0, 1, 2, 3,\n",
       "       2, 1, 2, 3, 1, 2, 1, 1, 1, 0, 1, 2, 0, 1, 1, 0, 0, 0, 0, 1, 0, 3,\n",
       "       0, 2, 1, 3, 2, 3, 0, 0, 1, 0, 3, 3, 2, 0, 3, 0, 0, 3, 3, 1, 3, 0,\n",
       "       0, 2, 3, 1, 1, 3, 2, 3, 3, 3, 0, 3, 0, 3, 3, 1, 0, 3, 0, 2, 0, 1,\n",
       "       3, 2, 3, 1, 1, 0, 2, 2, 3, 3, 1, 1, 0, 0, 2, 0, 3, 1, 0, 0, 3, 0,\n",
       "       0, 2, 2, 3, 0, 3, 1, 2, 3, 0, 0, 0, 3, 2, 2, 0, 3, 0, 2, 3, 1, 0,\n",
       "       2, 2, 2, 0, 3, 2, 1, 0, 1, 3, 1, 2, 0, 2, 1, 2, 2, 0, 2, 2, 1, 3,\n",
       "       2, 0, 0, 3, 0, 2, 0, 2, 0, 0, 3, 1, 3, 0, 1, 2, 1, 0, 2, 1, 1, 1,\n",
       "       1, 2, 0, 3, 2, 3, 2, 3, 2, 0, 1, 0, 3, 2, 3, 3, 3, 1, 3, 3, 0, 3,\n",
       "       2, 1, 3, 1, 1, 3, 1, 1, 2, 0, 1, 0, 3, 1, 0, 0, 3, 2, 3, 2, 1, 1,\n",
       "       2, 3, 2, 2, 2, 1, 3, 2, 0, 1, 2, 1, 1, 1, 1, 0, 2, 0, 3, 0, 2, 2,\n",
       "       1, 2, 2, 0, 1, 3, 2, 2, 1, 3, 1, 2, 0, 1, 2, 2, 0, 1, 1, 1, 3, 3,\n",
       "       0, 2, 1, 3, 2, 0, 0, 3, 2, 2, 1, 1, 3, 0, 0, 3, 2, 1, 2, 0, 0, 2,\n",
       "       0, 1, 3, 3, 2, 0, 3, 1, 2, 1, 0, 3, 1, 0, 1, 1, 0, 2, 2, 3, 1, 3,\n",
       "       3, 0, 3, 1, 3, 2, 3, 1, 1, 0, 1, 0, 3, 0, 2, 1], dtype=int64)"
      ]
     },
     "execution_count": 56,
     "metadata": {},
     "output_type": "execute_result"
    }
   ],
   "source": [
    "ypred_m4 = m4.predict(x_test)\n",
    "ypred_m4"
   ]
  },
  {
   "cell_type": "code",
   "execution_count": 57,
   "id": "82e3c396",
   "metadata": {},
   "outputs": [],
   "source": [
    "from sklearn.metrics import confusion_matrix, classification_report, accuracy_score"
   ]
  },
  {
   "cell_type": "code",
   "execution_count": 58,
   "id": "830067cc",
   "metadata": {},
   "outputs": [
    {
     "name": "stdout",
     "output_type": "stream",
     "text": [
      "[[109   3   0   0]\n",
      " [ 20 108  11   0]\n",
      " [  0  16 103   9]\n",
      " [  0   0   9 112]]\n",
      "              precision    recall  f1-score   support\n",
      "\n",
      "           0       0.84      0.97      0.90       112\n",
      "           1       0.85      0.78      0.81       139\n",
      "           2       0.84      0.80      0.82       128\n",
      "           3       0.93      0.93      0.93       121\n",
      "\n",
      "    accuracy                           0.86       500\n",
      "   macro avg       0.86      0.87      0.87       500\n",
      "weighted avg       0.86      0.86      0.86       500\n",
      "\n",
      "0.864\n"
     ]
    }
   ],
   "source": [
    "cm = confusion_matrix(y_test, ypred_m4)\n",
    "print(cm)\n",
    "print(classification_report(y_test, ypred_m4))\n",
    "# Accuracy score\n",
    "rfc_acc = accuracy_score(y_test, ypred_m4)\n",
    "print(rfc_acc)"
   ]
  },
  {
   "cell_type": "markdown",
   "id": "5732c50f",
   "metadata": {},
   "source": [
    "# e)SVM classifier with linear kernel"
   ]
  },
  {
   "cell_type": "code",
   "execution_count": 59,
   "id": "652d8278",
   "metadata": {},
   "outputs": [],
   "source": [
    "from sklearn.svm import SVC "
   ]
  },
  {
   "cell_type": "markdown",
   "id": "1930e2bc",
   "metadata": {},
   "source": [
    "# Linear Kernel"
   ]
  },
  {
   "cell_type": "code",
   "execution_count": 60,
   "id": "9f81fb45",
   "metadata": {},
   "outputs": [
    {
     "data": {
      "text/plain": [
       "SVC(C=10, kernel='linear')"
      ]
     },
     "execution_count": 60,
     "metadata": {},
     "output_type": "execute_result"
    }
   ],
   "source": [
    "m5 = SVC(kernel='linear', C=10)\n",
    "m5.fit(x_train, y_train)"
   ]
  },
  {
   "cell_type": "code",
   "execution_count": 61,
   "id": "a0543204",
   "metadata": {},
   "outputs": [
    {
     "name": "stdout",
     "output_type": "stream",
     "text": [
      "Training score 0.984\n",
      "Testing score 0.954\n"
     ]
    }
   ],
   "source": [
    "print('Training score', m5.score(x_train, y_train))\n",
    "print('Testing score', m5.score(x_test, y_test))"
   ]
  },
  {
   "cell_type": "code",
   "execution_count": 62,
   "id": "9cc043f4",
   "metadata": {},
   "outputs": [
    {
     "data": {
      "text/plain": [
       "array([2, 2, 0, 2, 1, 2, 2, 1, 0, 2, 2, 1, 3, 3, 1, 1, 0, 3, 2, 3, 0, 2,\n",
       "       3, 3, 2, 1, 0, 2, 0, 1, 0, 1, 3, 1, 2, 3, 2, 2, 0, 0, 2, 0, 0, 2,\n",
       "       1, 1, 1, 1, 2, 1, 3, 1, 3, 3, 0, 1, 0, 1, 2, 3, 2, 2, 0, 2, 2, 0,\n",
       "       3, 1, 3, 2, 0, 1, 1, 2, 0, 3, 2, 3, 3, 3, 3, 3, 0, 1, 2, 1, 0, 3,\n",
       "       1, 3, 3, 2, 0, 1, 0, 1, 1, 1, 0, 3, 1, 3, 2, 0, 3, 2, 1, 3, 0, 3,\n",
       "       2, 2, 1, 2, 3, 0, 1, 1, 0, 1, 0, 0, 3, 0, 2, 2, 0, 1, 3, 0, 1, 2,\n",
       "       3, 3, 2, 3, 0, 0, 1, 1, 3, 2, 3, 0, 0, 0, 1, 2, 1, 2, 0, 0, 1, 0,\n",
       "       1, 2, 2, 3, 2, 1, 3, 3, 0, 2, 1, 1, 1, 0, 0, 2, 1, 1, 2, 1, 0, 3,\n",
       "       2, 1, 2, 2, 0, 0, 0, 2, 3, 3, 0, 1, 2, 0, 3, 2, 1, 1, 0, 0, 2, 2,\n",
       "       2, 1, 2, 3, 1, 3, 2, 1, 1, 0, 1, 2, 0, 1, 1, 0, 0, 0, 0, 1, 0, 2,\n",
       "       0, 2, 1, 3, 2, 3, 1, 0, 1, 0, 3, 2, 2, 0, 3, 0, 0, 3, 3, 1, 2, 0,\n",
       "       0, 2, 3, 1, 1, 3, 1, 3, 3, 3, 0, 3, 0, 3, 3, 1, 0, 3, 0, 2, 0, 1,\n",
       "       3, 2, 3, 0, 1, 0, 2, 3, 3, 3, 2, 1, 0, 0, 3, 0, 3, 1, 1, 0, 3, 0,\n",
       "       1, 2, 2, 3, 0, 3, 1, 2, 3, 0, 0, 0, 3, 1, 2, 0, 3, 0, 2, 3, 1, 0,\n",
       "       2, 2, 2, 0, 3, 2, 1, 0, 1, 3, 1, 2, 0, 2, 1, 2, 3, 0, 2, 2, 2, 3,\n",
       "       3, 0, 0, 3, 0, 2, 0, 2, 1, 0, 3, 1, 3, 0, 1, 2, 2, 0, 1, 1, 1, 1,\n",
       "       1, 2, 0, 3, 2, 3, 2, 3, 2, 0, 1, 1, 3, 2, 3, 3, 3, 1, 3, 3, 1, 3,\n",
       "       2, 1, 3, 1, 1, 3, 1, 1, 2, 0, 1, 0, 3, 2, 0, 1, 3, 1, 3, 2, 1, 1,\n",
       "       2, 3, 2, 1, 2, 1, 2, 1, 0, 2, 2, 1, 1, 1, 1, 0, 2, 0, 3, 0, 3, 2,\n",
       "       2, 3, 2, 1, 1, 3, 2, 2, 1, 3, 1, 2, 0, 1, 2, 2, 0, 1, 1, 1, 3, 3,\n",
       "       0, 2, 1, 3, 2, 0, 0, 3, 1, 2, 1, 1, 3, 0, 0, 3, 2, 1, 2, 0, 0, 2,\n",
       "       0, 0, 3, 3, 2, 0, 3, 1, 2, 1, 0, 3, 1, 0, 1, 1, 0, 2, 2, 3, 1, 3,\n",
       "       3, 0, 3, 1, 3, 2, 3, 0, 1, 0, 1, 0, 3, 0, 2, 1], dtype=int64)"
      ]
     },
     "execution_count": 62,
     "metadata": {},
     "output_type": "execute_result"
    }
   ],
   "source": [
    "ypred_m5 = m5.predict(x_test)\n",
    "ypred_m5"
   ]
  },
  {
   "cell_type": "code",
   "execution_count": 63,
   "id": "2248d5cc",
   "metadata": {},
   "outputs": [],
   "source": [
    "from sklearn.metrics import confusion_matrix, classification_report, accuracy_score"
   ]
  },
  {
   "cell_type": "code",
   "execution_count": 64,
   "id": "d604dd47",
   "metadata": {
    "scrolled": true
   },
   "outputs": [
    {
     "name": "stdout",
     "output_type": "stream",
     "text": [
      "[[112   0   0   0]\n",
      " [ 12 127   0   0]\n",
      " [  0   6 120   2]\n",
      " [  0   0   3 118]]\n",
      "              precision    recall  f1-score   support\n",
      "\n",
      "           0       0.90      1.00      0.95       112\n",
      "           1       0.95      0.91      0.93       139\n",
      "           2       0.98      0.94      0.96       128\n",
      "           3       0.98      0.98      0.98       121\n",
      "\n",
      "    accuracy                           0.95       500\n",
      "   macro avg       0.95      0.96      0.95       500\n",
      "weighted avg       0.96      0.95      0.95       500\n",
      "\n",
      "0.954\n"
     ]
    }
   ],
   "source": [
    "cm = confusion_matrix(y_test, ypred_m5)\n",
    "print(cm)\n",
    "print(classification_report(y_test, ypred_m5))\n",
    "# Accuracy score\n",
    "svc_acc = accuracy_score(y_test, ypred_m5)\n",
    "print(svc_acc)"
   ]
  },
  {
   "cell_type": "code",
   "execution_count": 66,
   "id": "e9a91502",
   "metadata": {},
   "outputs": [
    {
     "data": {
      "image/png": "[encoded data removed]",
      "text/plain": [
       "<Figure size 432x288 with 1 Axes>"
      ]
     },
     "metadata": {},
     "output_type": "display_data"
    }
   ],
   "source": [
    "# Accuracies of all models bar graph\n",
    "plt.bar(x = ['m1', 'm2', 'm3', 'm4', 'm5'], height = [lr_acc, knn_acc, dtc_acc, rfc_acc, svc_acc])\n",
    "plt.xlabel(\"Algorithms\")\n",
    "plt.ylabel(\"Accuracy Score\")\n",
    "plt.show()"
   ]
  },
  {
   "cell_type": "raw",
   "id": "019e3254",
   "metadata": {},
   "source": [
    "Model                               Accuracy Score\n",
    "Logistic Regression                 0.938\n",
    "KNN Classification                  0.526\n",
    "Decision Tree Classification        0.844\n",
    "Random Forest Classification        0.864\n",
    "SVM Classifier with Linear Kernel   0.954"
   ]
  },
  {
   "cell_type": "markdown",
   "id": "d57f783b",
   "metadata": {},
   "source": [
    "# Report"
   ]
  },
  {
   "cell_type": "markdown",
   "id": "dd24fd5d",
   "metadata": {},
   "source": [
    "The results of our tests were quantified in terms of the Accuracy score of our prediction. Building up from the relatively good performance of SVM Classifier with linear kernel, it produced the best Accuracy score on test data. Hence, we can conclude that the SVM classifier with linear kernel works best on our dataset for prediction."
   ]
  },
  {
   "cell_type": "code",
   "execution_count": null,
   "id": "e68899c8",
   "metadata": {},
   "outputs": [],
   "source": []
  },
  {
   "cell_type": "code",
   "execution_count": null,
   "id": "6bc4c420",
   "metadata": {},
   "outputs": [],
   "source": []
  }
 ],
 "metadata": {
  "kernelspec": {
   "display_name": "Python 3 (ipykernel)",
   "language": "python",
   "name": "python3"
  },
  "language_info": {
   "codemirror_mode": {
    "name": "ipython",
    "version": 3
   },
   "file_extension": ".py",
   "mimetype": "text/x-python",
   "name": "python",
   "nbconvert_exporter": "python",
   "pygments_lexer": "ipython3",
   "version": "3.9.12"
  }
 },
 "nbformat": 4,
 "nbformat_minor": 5
}
